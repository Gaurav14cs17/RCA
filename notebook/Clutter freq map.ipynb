{
 "cells": [
  {
   "cell_type": "markdown",
   "metadata": {},
   "source": [
    "# Clutter Monitoring notebook\n",
    "\n",
    "The Relative Calibration Adjusment technique (RCA) is a 2-step technique:\n",
    ">- 1st step: Generate a clutter frequency map, at least on 1 day of data.\n",
    ">- 2nd step: Extracting the change in calibration."
   ]
  },
  {
   "cell_type": "code",
   "execution_count": 1,
   "metadata": {},
   "outputs": [
    {
     "name": "stderr",
     "output_type": "stream",
     "text": [
      "/short/en0/vhl548/miniconda3/envs/radar/lib/python3.7/site-packages/pyart/graph/cm.py:104: FutureWarning: elementwise comparison failed; returning scalar instead, but in the future will perform elementwise comparison\n",
      "  if 'red' in spec:\n",
      "/short/en0/vhl548/miniconda3/envs/radar/lib/python3.7/site-packages/pyart/graph/cm_colorblind.py:32: FutureWarning: elementwise comparison failed; returning scalar instead, but in the future will perform elementwise comparison\n",
      "  if 'red' in spec:\n",
      "/short/en0/vhl548/miniconda3/envs/radar/lib/python3.7/site-packages/pandas/core/tools/datetimes.py:3: DeprecationWarning: Using or importing the ABCs from 'collections' instead of from 'collections.abc' is deprecated, and in 3.8 it will stop working\n",
      "  from collections import MutableMapping\n"
     ]
    }
   ],
   "source": [
    "import os\n",
    "import glob\n",
    "import warnings\n",
    "import traceback\n",
    "\n",
    "from multiprocessing import Pool\n",
    "\n",
    "import pyart\n",
    "import numpy as np\n",
    "import pandas as pd\n",
    "import matplotlib.pyplot as pl\n",
    "\n",
    "from numba import jit\n",
    "from netCDF4 import num2date\n",
    "\n",
    "warnings.simplefilter('ignore')"
   ]
  },
  {
   "cell_type": "code",
   "execution_count": 2,
   "metadata": {},
   "outputs": [],
   "source": [
    "# Path to radar data (at least one day required)\n",
    "INDIR = \"/g/data2/rr5/vhl548/CPOL_level_1a/2006/20060101/\" #\"/g/data2/rr5/vhl548/CPOL_level_1/2006/20060101/\"\n",
    "flist = glob.glob(os.path.join(INDIR, \"*.nc\"))"
   ]
  },
  {
   "cell_type": "markdown",
   "metadata": {},
   "source": [
    "# Part 1: Generate clutter map"
   ]
  },
  {
   "cell_type": "code",
   "execution_count": 3,
   "metadata": {},
   "outputs": [],
   "source": [
    "def azi2angl(azi):    \n",
    "    \"\"\"\n",
    "    Convert azimuth angle to true angle (in degree).\n",
    "    \"\"\"\n",
    "    h = 450 - azi\n",
    "    h[h > 360] = h[h > 360] - 360\n",
    "    return h"
   ]
  },
  {
   "cell_type": "code",
   "execution_count": 4,
   "metadata": {},
   "outputs": [],
   "source": [
    "def get_clutter_position(radar, \n",
    "                         dbz_name = \"DBZ\", \n",
    "                         rhohv_name = \"RHOHV\", \n",
    "                         refl_thrld = 40, \n",
    "                         rhohv_thrld = 0.97, \n",
    "                         maxrange = 10e3):  \n",
    "    \"\"\"\n",
    "    Get (range, azimuth) position of non meteorological echoes.\n",
    "    \n",
    "    Parameters:\n",
    "    ===========\n",
    "        radar: struct\n",
    "            Py-ART radar structure.\n",
    "        dbz_name: str\n",
    "            Reflectivity field name.\n",
    "        rhohv_name: str\n",
    "            Cross-correlation field name.\n",
    "        refl_thrld: float\n",
    "            Minimum reflectivity threshold (in dBZ)\n",
    "        rhohv_thrld: float\n",
    "            Maximum cross correlation threshold below which echoes \n",
    "            are not from a meteorological source.\n",
    "        maxrange: int\n",
    "            Maximum range (in meters)\n",
    "            \n",
    "    Returns:\n",
    "    ========\n",
    "        r_clutter: np.array\n",
    "            Range position of non-meteorological echoes.\n",
    "        azi_clutter: np.array\n",
    "            Azimuth position of non-meteorological echoes.    \n",
    "    \"\"\"\n",
    "    # Extract first elevation only\n",
    "    rslice = radar.get_slice(0)\n",
    "    # Extract range/azimuth\n",
    "    r = radar.range['data'].astype(int)\n",
    "    azi = radar.azimuth['data'][rslice]\n",
    "    # Check azimuth field.\n",
    "    if len(azi) <= 60:\n",
    "        print(\"Invalid azimuth field\")\n",
    "        return None\n",
    "    \n",
    "    # Get reflectivity and RHOHV\n",
    "    total_power = radar.fields[dbz_name]['data'][rslice].filled(np.NaN)\n",
    "    cross_correlation_ratio = radar.fields[rhohv_name]['data'][rslice].filled(np.NaN)\n",
    "    \n",
    "    # Removing every echoes that are above RHOHV threshold, below DBZ threshold and above maximum range.\n",
    "    clut = total_power\n",
    "    clut[(cross_correlation_ratio > rhohv_thrld) | (total_power < refl_thrld)] = np.NaN    \n",
    "    clut[:, r > maxrange] = np.NaN\n",
    "    \n",
    "    # Position of remaining echoes\n",
    "    posa, posr = np.where(~np.isnan(clut))\n",
    "    \n",
    "    r_clutter = r[posr]\n",
    "    azi_clutter = azi[posa]    \n",
    "    \n",
    "    return r_clutter, azi_clutter"
   ]
  },
  {
   "cell_type": "code",
   "execution_count": 5,
   "metadata": {},
   "outputs": [],
   "source": [
    "@jit(nopython=True)\n",
    "def _jit_find_clut_pos(rrange, theta, range_list, azi_list):\n",
    "    # Initializing frequency array\n",
    "    frequency = np.zeros((len(theta), len(rrange)))\n",
    "    # Running through lists of non-meteorological echoes\n",
    "    for myr, mya in zip(range_list, azi_list):\n",
    "        # Finding their positions\n",
    "        apos = np.argmin(np.abs(theta - mya))\n",
    "        rpos = np.argmin(np.abs(rrange - myr))\n",
    "\n",
    "        frequency[apos, rpos] += 1\n",
    "    return frequency"
   ]
  },
  {
   "cell_type": "code",
   "execution_count": 6,
   "metadata": {},
   "outputs": [],
   "source": [
    "def compute_frequency_map(rrange, \n",
    "                          azimuth, \n",
    "                          range_list, \n",
    "                          azi_list, \n",
    "                          nb_files, \n",
    "                          freq_thrld=90):\n",
    "    \"\"\"\n",
    "    Compute the frequency map of non-meteorological echoes\n",
    "    \n",
    "    Parameters:\n",
    "    ===========\n",
    "        rrange: np.array\n",
    "            Radar range\n",
    "        azimuth: np.array\n",
    "            Radar azimuth\n",
    "        range_list: np.array\n",
    "            Range position of non-meteorological echoes\n",
    "        azi_list: np.array\n",
    "            Azimuth position of non-meteorological echoes\n",
    "        nb_files: int\n",
    "            Total number of files for which the range, azimuth of \n",
    "            non-meteorological echoes as been retrieved.\n",
    "        freq_thrld: int\n",
    "            Frequency threshold in % above which echoes are \n",
    "            considered permanent.\n",
    "            \n",
    "    Returns:\n",
    "    ========\n",
    "        clutter_range: np.array\n",
    "            Estimated permanent clutter range\n",
    "        clutter_azimuth: np.array\n",
    "            Estimated permanent clutter azimuth\n",
    "        frequency: np.array\n",
    "            Frequency map of clutter echoes.\n",
    "    \"\"\"\n",
    "    # Azimuthal width\n",
    "    # Because radar azimuth don't always (never) starts at 0, we create \n",
    "    # a theta angle array that starts at 0 with the same step as azimuth.\n",
    "    da = azimuth[1] - azimuth[0]\n",
    "    da = np.round(da, 1)  # Round to 1 figure after the decimal.\n",
    "    \n",
    "    # Generating position arrays\n",
    "    theta = np.arange(0, 360, da)\n",
    "    [TH, R] = np.meshgrid(theta, rrange, indexing='ij')\n",
    "    \n",
    "    frequency = _jit_find_clut_pos(rrange, theta, range_list, azi_list)\n",
    "    \n",
    "    # It can happen when da is not an integer.\n",
    "    frequency[frequency > nb_files] = nb_files\n",
    "    # In percent\n",
    "    frequency = 100*frequency/nb_files\n",
    "    \n",
    "    if np.max(frequency) < 60:\n",
    "        print(\"Not enough clutter. Try another day. Maximum frequency is only {:0.2f}%.\".format(np.max(frequency)))\n",
    "        return None, None, None\n",
    "    \n",
    "    # Finding permanent echoes azimuth and range position\n",
    "    azpos, rapos = np.where(frequency > freq_thrld)\n",
    "    clutter_range = rrange[rapos]\n",
    "    clutter_azimuth = theta[azpos]\n",
    "\n",
    "    return clutter_range, clutter_azimuth, frequency    "
   ]
  },
  {
   "cell_type": "code",
   "execution_count": 7,
   "metadata": {},
   "outputs": [],
   "source": [
    "def multproc_buffer_create_clut_map(infile):\n",
    "    \"\"\"\n",
    "    Buffer function for multiprocessing and handleing errors.    \n",
    "    \"\"\"\n",
    "    try:\n",
    "        radar = pyart.io.read(infile)\n",
    "#         print(\"{} read.\".format(os.path.basename(infile)))\n",
    "    except Exception:\n",
    "        print(\"Could not read input file\", os.path.basename(infile))\n",
    "        return None\n",
    "    \n",
    "    try:\n",
    "        r_clutt, azi_clutt = get_clutter_position(radar)\n",
    "    except Exception:\n",
    "        print(\"Problem with this file:\", os.path.basename(infile))\n",
    "        traceback.print_exc()\n",
    "        return None\n",
    "    \n",
    "    return r_clutt, azi_clutt"
   ]
  },
  {
   "cell_type": "code",
   "execution_count": 8,
   "metadata": {},
   "outputs": [],
   "source": [
    "with Pool(16) as pool:\n",
    "    rslt = pool.map(multproc_buffer_create_clut_map, flist)    \n",
    "    \n",
    "# Unpack rslt.\n",
    "range_tot = np.array([], dtype=int)\n",
    "azi_tot = np.array([])\n",
    "for rslice, azislice in rslt:\n",
    "    range_tot = np.append(range_tot, rslice)\n",
    "    azi_tot = np.append(azi_tot, azislice)"
   ]
  },
  {
   "cell_type": "code",
   "execution_count": 9,
   "metadata": {},
   "outputs": [
    {
     "data": {
      "image/png": "[encoded data removed]",
      "text/plain": [
       "<Figure size 432x288 with 2 Axes>"
      ]
     },
     "metadata": {},
     "output_type": "display_data"
    }
   ],
   "source": [
    "pl.figure()\n",
    "pl.hist2d(range_tot, azi_tot, range=[[0, 10e3], [0, 360]], bins=(34, 360), cmap='pyart_Theodore16', vmin=0, vmax=len(flist))\n",
    "pl.xlabel(\"Range (m)\")\n",
    "pl.ylabel(\"Azimuth $(^\\circ)$\")\n",
    "c0 = pl.colorbar()\n",
    "c0.set_label(\"Number of non-meteorological echoes\")\n",
    "pl.show()"
   ]
  },
  {
   "cell_type": "code",
   "execution_count": 10,
   "metadata": {},
   "outputs": [],
   "source": [
    "# Need to send radar range and azimuth to function.\n",
    "radar = pyart.io.read(flist[0])\n",
    "rslice = radar.get_slice(0)\n",
    "rrange = radar.range['data'].astype(int)\n",
    "azimuth = radar.azimuth['data'][rslice]\n",
    "nbfile = len(flist)\n",
    "\n",
    "# Compute frequency map\n",
    "clutter_r, clutter_azi, freq = compute_frequency_map(rrange, azimuth, range_tot, azi_tot, nbfile)\n",
    "# We can save clutter_r, and clutter_azi for RCA use."
   ]
  },
  {
   "cell_type": "markdown",
   "metadata": {},
   "source": [
    "From that position we can save the arrays `clutter_r`, and `clutter_azi` into a data file for the second part of the RCA code."
   ]
  },
  {
   "cell_type": "code",
   "execution_count": 27,
   "metadata": {},
   "outputs": [],
   "source": [
    "freq = np.ma.masked_where(freq == 0, freq)\n",
    "\n",
    "r = rrange\n",
    "aziclut = np.linspace(-0, 360, freq.shape[0], endpoint=False)\n",
    "theta = 450 - aziclut\n",
    "theta[theta < 0] += 360\n",
    "\n",
    "[TH, R] = np.meshgrid(theta, r, indexing='ij')\n",
    "x = R*np.cos(TH*np.pi/180)\n",
    "y = R*np.sin(TH*np.pi/180)"
   ]
  },
  {
   "cell_type": "code",
   "execution_count": 28,
   "metadata": {},
   "outputs": [],
   "source": [
    "freq = np.ma.masked_where(freq < 3, freq)"
   ]
  },
  {
   "cell_type": "code",
   "execution_count": 29,
   "metadata": {},
   "outputs": [],
   "source": [
    "from numpy import pi, cos, sin"
   ]
  },
  {
   "cell_type": "code",
   "execution_count": 37,
   "metadata": {},
   "outputs": [
    {
     "data": {
      "image/png": "[encoded data removed]",
      "text/plain": [
       "<Figure size 396x316.8 with 2 Axes>"
      ]
     },
     "metadata": {},
     "output_type": "display_data"
    }
   ],
   "source": [
    "width = 5.5\n",
    "height = width * .8\n",
    "\n",
    "with pl.style.context(\"seaborn-paper\"):\n",
    "    fig = pl.figure()\n",
    "    pl.pcolormesh(x / 1e3, y / 1e3, freq, cmap='pyart_Theodore16', vmin=0, vmax=100)\n",
    "    for r in [5, 10]:\n",
    "        pl.plot(r*np.cos(theta*np.pi/180), r*np.sin(theta*np.pi/180), 'k-')\n",
    "        \n",
    "    for th in np.arange(0, 2*pi, pi/4):\n",
    "        pl.plot([5*cos(th), 10*cos(th)], [5*sin(th), 10*sin(th)], \"k-\")\n",
    "        \n",
    "    pl.text(5*cos(5*pi/4), 5*sin(5*pi/4), \"5 km\", ha='center', va=\"center\", bbox={\"alpha\":0.7, \"color\": \"white\"})\n",
    "    pl.text(10*cos(5*pi/4), 10*sin(5*pi/4), \"10 km\", ha='center', va=\"center\", bbox={\"alpha\":0.7, \"color\": \"white\"})\n",
    "\n",
    "    pl.axis('square')\n",
    "    pl.axis((-10, 10, -10, 10))    \n",
    "    pl.xlabel(\"Distance from origin (km)\")\n",
    "    pl.ylabel(\"Distance from origin (km)\")\n",
    "\n",
    "    c0 = pl.colorbar()\n",
    "    c0.set_label(\"Frequency (%)\")    \n",
    "    \n",
    "    pl.tight_layout()\n",
    "    fig.set_size_inches(width, height)\n",
    "    \n",
    "    pl.show()\n",
    "    pl.close()\n",
    "#     pl.savefig(\"clutter_map.png\", dpi=600)\n",
    "#     pl.savefig(\"clutter_map.pdf\")"
   ]
  },
  {
   "cell_type": "markdown",
   "metadata": {},
   "source": [
    "# Part 2: Computing the radar monitoring value"
   ]
  },
  {
   "cell_type": "code",
   "execution_count": 101,
   "metadata": {
    "collapsed": true
   },
   "outputs": [],
   "source": [
    "def compute_95th_percentile(the_data):\n",
    "    \"\"\"\n",
    "    Compute the 95th percentile.\n",
    "\n",
    "    Parameter:\n",
    "    ==========\n",
    "        the_data: np.array\n",
    "            The clutter data.\n",
    "\n",
    "    Returns:\n",
    "    ========\n",
    "        to_return: float\n",
    "            95th percentile of the input data.\n",
    "    \"\"\"\n",
    "\n",
    "    clut_series = pd.Series(the_data[~np.isnan(the_data)])\n",
    "    to_return = clut_series.quantile(0.95)\n",
    "\n",
    "    return to_return"
   ]
  },
  {
   "cell_type": "code",
   "execution_count": 102,
   "metadata": {
    "collapsed": true
   },
   "outputs": [],
   "source": [
    "def extract_clutter(radar, r_mask, th_mask, dbz_name='DBZ'):\n",
    "    \"\"\"\n",
    "    Extract reflectivity data that has the same (r, azi) as the clutter mask.\n",
    "\n",
    "    Parameters:\n",
    "    ===========\n",
    "        radar: struct\n",
    "            Py-ART radar structure.\n",
    "        r_mask: numpy.array(float)\n",
    "            Clutter range.\n",
    "        th_mask: numpy.array(float)\n",
    "            Clutter azimuth.\n",
    "        dbz_name: str\n",
    "            Reflectivity field name.\n",
    "\n",
    "    Returns:\n",
    "    ========\n",
    "        clut: numpy.array(float)\n",
    "            Extracted clutter reflectivity.\n",
    "    \"\"\"\n",
    "    # Extract first elevation only\n",
    "    rslice = radar.get_slice(0)\n",
    "    # Extract range/azimuth\n",
    "    r = radar.range['data'].astype(int)\n",
    "    azi = radar.azimuth['data'][rslice]\n",
    "    # Angle variation tolerance\n",
    "    dazi = 0.5\n",
    "    \n",
    "    # Get reflectivity and RHOHV\n",
    "    reflec = radar.fields[dbz_name]['data'][rslice].filled(np.NaN)\n",
    "    dr = r[1] - r[0]    \n",
    "    clut = []\n",
    "\n",
    "    for the_r, the_azi in zip(r_mask, th_mask):\n",
    "        pos_r = np.where((the_r >= r-dr) & (the_r < r + dr))[0]\n",
    "        pos_azi = np.where((azi >= the_azi - dazi) &\n",
    "                           (azi < the_azi + dazi))[0]\n",
    "\n",
    "        if (len(pos_r) > 0) & (len(pos_azi) > 0):  # Non-empty array\n",
    "            if len(pos_r) == len(pos_azi):\n",
    "                rtmp = pos_r\n",
    "                ttmp = pos_azi\n",
    "            else:\n",
    "                rtmp = pos_r[0]\n",
    "                ttmp = pos_azi[0]\n",
    "        else:\n",
    "            continue\n",
    "\n",
    "        try:\n",
    "            value_rca = reflec[ttmp, rtmp]\n",
    "            if np.isscalar(value_rca):\n",
    "                clut.append(value_rca)\n",
    "            elif len(value_rca) >= 1:\n",
    "                [clut.append(tmp_value) for tmp_value in value_rca]\n",
    "            else:\n",
    "                continue\n",
    "        except IndexError as err:\n",
    "            print(\"Could not apply clutter mask.\")\n",
    "            traceback.print_exc()\n",
    "            continue\n",
    "    \n",
    "    return np.array(clut)"
   ]
  },
  {
   "cell_type": "code",
   "execution_count": 103,
   "metadata": {
    "collapsed": true
   },
   "outputs": [],
   "source": [
    "def multproc_buffer_rca(infile, range_permanent_echoes, azi_permanent_echoes):\n",
    "    \"\"\"\n",
    "    Buffer function for multiprocessing and handleing errors.    \n",
    "    \"\"\"\n",
    "    try:\n",
    "        radar = pyart.io.read(infile)\n",
    "#         print(\"{} read.\".format(os.path.basename(infile)))\n",
    "    except Exception:\n",
    "        print(\"Could not read input file\", os.path.basename(infile))\n",
    "        return None\n",
    "    \n",
    "    volume_date = num2date(radar.time['data'][0], radar.time['units'])\n",
    "    \n",
    "    try:\n",
    "        ext_clut = extract_clutter(radar, range_permanent_echoes, azi_permanent_echoes)\n",
    "    except Exception:\n",
    "        print(\"Problem with this file:\", os.path.basename(infile))\n",
    "        traceback.print_exc()\n",
    "        return None\n",
    "    \n",
    "    rca = compute_95th_percentile(ext_clut)\n",
    "    \n",
    "    return volume_date, rca"
   ]
  },
  {
   "cell_type": "markdown",
   "metadata": {},
   "source": [
    "`clutter_r`, and `clutter_azi` have been created in part 1."
   ]
  },
  {
   "cell_type": "code",
   "execution_count": 104,
   "metadata": {
    "collapsed": true
   },
   "outputs": [],
   "source": [
    "# We created the mask on one day, that is enough, now we want to monitor 10 days of our dataset\n",
    "flist2 = glob.glob(INDIR + \"/*.nc\")"
   ]
  },
  {
   "cell_type": "code",
   "execution_count": 105,
   "metadata": {
    "collapsed": true
   },
   "outputs": [],
   "source": [
    "# Create argument list for multiprocessing\n",
    "args_list = []\n",
    "for fd in flist2:\n",
    "    tmp = (fd, clutter_r, clutter_azi)\n",
    "    args_list.append(tmp)"
   ]
  },
  {
   "cell_type": "code",
   "execution_count": 106,
   "metadata": {
    "collapsed": true
   },
   "outputs": [],
   "source": [
    "with Pool(8) as pool:\n",
    "    rslt = pool.starmap(multproc_buffer_rca, args_list)"
   ]
  },
  {
   "cell_type": "code",
   "execution_count": 107,
   "metadata": {
    "collapsed": true
   },
   "outputs": [],
   "source": [
    "# Unpack rslt\n",
    "rca = []\n",
    "xdate = []\n",
    "for tmptime, tmprca in rslt:\n",
    "    xdate.append(tmptime)\n",
    "    rca.append(tmprca)\n",
    "\n",
    "rca = np.array(rca)\n",
    "xdate = np.array(xdate, dtype='datetime64[s]')\n",
    "pos = np.argsort(xdate)\n",
    "xdate = xdate[pos]\n",
    "rca = rca[pos]"
   ]
  },
  {
   "cell_type": "code",
   "execution_count": 108,
   "metadata": {},
   "outputs": [
    {
     "data": {
      "image/png": "[encoded data removed]",
      "text/plain": [
       "<matplotlib.figure.Figure at 0x7faf374b1550>"
      ]
     },
     "metadata": {},
     "output_type": "display_data"
    }
   ],
   "source": [
    "fig = pl.figure()\n",
    "pl.plot(xdate, rca)\n",
    "pl.plot([xdate.min(), xdate.max()], [rca.mean(), rca.mean()], 'r--')\n",
    "pl.xlim([xdate.min(), xdate.max()])\n",
    "pl.title(\"Monitoring of clutter reflectivity\")\n",
    "pl.ylabel(\"CDF[clutter, 95%] (dBZ)\")\n",
    "fig.autofmt_xdate()\n",
    "pl.show()"
   ]
  },
  {
   "cell_type": "code",
   "execution_count": 109,
   "metadata": {},
   "outputs": [
    {
     "data": {
      "text/plain": [
       "nan"
      ]
     },
     "execution_count": 109,
     "metadata": {},
     "output_type": "execute_result"
    }
   ],
   "source": [
    "rca.mean()"
   ]
  },
  {
   "cell_type": "code",
   "execution_count": 110,
   "metadata": {},
   "outputs": [
    {
     "data": {
      "text/plain": [
       "nan"
      ]
     },
     "execution_count": 110,
     "metadata": {},
     "output_type": "execute_result"
    }
   ],
   "source": [
    "rca.std()"
   ]
  },
  {
   "cell_type": "code",
   "execution_count": null,
   "metadata": {
    "collapsed": true
   },
   "outputs": [],
   "source": []
  }
 ],
 "metadata": {
  "kernelspec": {
   "display_name": "Python 3",
   "language": "python",
   "name": "python3"
  },
  "language_info": {
   "codemirror_mode": {
    "name": "ipython",
    "version": 3
   },
   "file_extension": ".py",
   "mimetype": "text/x-python",
   "name": "python",
   "nbconvert_exporter": "python",
   "pygments_lexer": "ipython3",
   "version": "3.7.4"
  }
 },
 "nbformat": 4,
 "nbformat_minor": 2
}
