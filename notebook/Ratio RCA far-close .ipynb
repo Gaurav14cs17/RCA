{
 "cells": [
  {
   "cell_type": "code",
   "execution_count": 1,
   "metadata": {},
   "outputs": [
    {
     "name": "stderr",
     "output_type": "stream",
     "text": [
      "/short/kl02/vhl548/miniconda3/envs/radar/lib/python3.6/site-packages/h5py/__init__.py:36: FutureWarning: Conversion of the second argument of issubdtype from `float` to `np.floating` is deprecated. In future, it will be treated as `np.float64 == np.dtype(float).type`.\n",
      "  from ._conv import register_converters as _register_converters\n"
     ]
    }
   ],
   "source": [
    "import os\n",
    "import glob\n",
    "import warnings\n",
    "import traceback\n",
    "\n",
    "from multiprocessing import Pool\n",
    "\n",
    "import netCDF4\n",
    "import pyart\n",
    "import tqdm\n",
    "import numpy as np\n",
    "import pandas as pd\n",
    "import matplotlib.pyplot as pl\n",
    "\n",
    "warnings.simplefilter('ignore')"
   ]
  },
  {
   "cell_type": "code",
   "execution_count": 2,
   "metadata": {},
   "outputs": [],
   "source": [
    "cluttermask = \"/home/548/vhl548/projects/CALIBRATION_codes/RCA/saved_mask/CLUTTER_map_CPOL_20061210.nc\""
   ]
  },
  {
   "cell_type": "code",
   "execution_count": 66,
   "metadata": {},
   "outputs": [],
   "source": [
    "flist = glob.glob(\"/g/data2/rr5/vhl548/CPOL_level_1a/2007/**/*.nc\")"
   ]
  },
  {
   "cell_type": "code",
   "execution_count": 4,
   "metadata": {},
   "outputs": [],
   "source": [
    "def read_elev(infile, dbz_name='DBZ'):\n",
    "    with netCDF4.Dataset(infile, \"r\") as ncid:\n",
    "        # Extract datetime\n",
    "        dtime = netCDF4.num2date(ncid['time'][0], ncid['time'].units)\n",
    "        sweep = ncid[\"sweep_start_ray_index\"][:]\n",
    "        myslice = slice(sweep[0], sweep[1] - 1)\n",
    "        elev = ncid[\"elevation\"][myslice]\n",
    "\n",
    "    return dtime, elev, elev.std()"
   ]
  },
  {
   "cell_type": "code",
   "execution_count": 5,
   "metadata": {},
   "outputs": [],
   "source": [
    "# with Pool(16) as pool:\n",
    "#     rslt = list(tqdm.tqdm(pool.imap(read_elev, flist), total=len(flist)))"
   ]
  },
  {
   "cell_type": "code",
   "execution_count": 6,
   "metadata": {},
   "outputs": [],
   "source": [
    "# date_time, elev_mean, elev_std = zip(*rslt)\n",
    "# elev_mean = np.array(elev_mean)\n",
    "# elev_mean[elev_mean>1] = np.NaN"
   ]
  },
  {
   "cell_type": "code",
   "execution_count": 7,
   "metadata": {},
   "outputs": [],
   "source": [
    "# pl.plot(date_time, elev_mean, '+')\n",
    "# pl.ylim(0.3, 0.6)\n",
    "# pl.ylabel('Elevation angle sweep 1')\n",
    "# pl.show()"
   ]
  },
  {
   "cell_type": "code",
   "execution_count": 8,
   "metadata": {},
   "outputs": [],
   "source": [
    "# pl.hist(elev_mean, range=(0.3, .6), bins=6)\n",
    "# pl.xlabel('Elevation angle sweep 1')\n",
    "# pl.show()"
   ]
  },
  {
   "cell_type": "code",
   "execution_count": 9,
   "metadata": {},
   "outputs": [],
   "source": [
    "def extract_clutter(r, azi, r_mask, th_mask, reflec):\n",
    "    \"\"\"\n",
    "    Extract reflectivity data that has the same (r, azi) as the clutter mask.\n",
    "\n",
    "    Parameters:\n",
    "    ===========\n",
    "        radar: struct\n",
    "            Py-ART radar structure.\n",
    "        r_mask: numpy.array(float)\n",
    "            Clutter range.\n",
    "        th_mask: numpy.array(float)\n",
    "            Clutter azimuth.\n",
    "        dbz_name: str\n",
    "            Reflectivity field name.\n",
    "\n",
    "    Returns:\n",
    "    ========\n",
    "        clut: numpy.array(float)\n",
    "            Extracted clutter reflectivity.\n",
    "    \"\"\"\n",
    "    reflec[reflec < 10] = np.NaN\n",
    "    dr = r[1] - r[0]\n",
    "    # Angle variation tolerance\n",
    "    dazi = 0.5\n",
    "\n",
    "    clut = np.zeros(len(r_mask)) + np.NaN\n",
    "    for cnt, (the_r, the_azi) in enumerate(zip(r_mask, th_mask)):\n",
    "        pos_r = np.where((the_r >= r - dr) & (the_r < r + dr))[0]\n",
    "        pos_azi = np.where((azi >= the_azi - dazi) & (azi < the_azi + dazi))[0]\n",
    "\n",
    "        if (len(pos_r) > 0) & (len(pos_azi) > 0):  # Non-empty array\n",
    "            if len(pos_r) == len(pos_azi):\n",
    "                rtmp = pos_r\n",
    "                ttmp = pos_azi\n",
    "            else:\n",
    "                rtmp = pos_r[0]\n",
    "                ttmp = pos_azi[0]\n",
    "        else:\n",
    "            continue\n",
    "\n",
    "        clut[cnt] = reflec[ttmp, rtmp]\n",
    "\n",
    "    return clut"
   ]
  },
  {
   "cell_type": "code",
   "execution_count": 10,
   "metadata": {},
   "outputs": [],
   "source": [
    "def read_data(infile, dbz_name='DBZ'):\n",
    "    with netCDF4.Dataset(infile, \"r\") as ncid:\n",
    "        # Extract datetime\n",
    "        dtime = netCDF4.num2date(ncid['time'][0], ncid['time'].units)\n",
    "\n",
    "        # Get first sweep\n",
    "        sweep = ncid[\"sweep_start_ray_index\"][:]\n",
    "        myslice = slice(sweep[0], sweep[1] - 1)\n",
    "\n",
    "        # Extract range and azimuth\n",
    "        azi = ncid[\"azimuth\"][myslice]\n",
    "        elev = ncid[\"elevation\"][myslice]        \n",
    "        r = ncid[\"range\"][:]\n",
    "        \n",
    "        refl = ncid[dbz_name][myslice]\n",
    "        \n",
    "    clut = extract_clutter(r, azi, CLUTTER_RANGE, CLUTTER_AZIMUTH, refl)\n",
    "    tmp = clut[~np.isnan(clut)]    \n",
    "    try:\n",
    "        rca = np.percentile(tmp, 95)\n",
    "    except IndexError:\n",
    "        rca = np.NaN\n",
    "\n",
    "    close_clutter = np.nanmean(clut[CLUTTER_RANGE <= 5e3])\n",
    "    far_clutter = np.nanmean(clut[CLUTTER_RANGE > 5e3])\n",
    "\n",
    "    return dtime, close_clutter, far_clutter, elev.mean(), elev.std(), rca"
   ]
  },
  {
   "cell_type": "code",
   "execution_count": 11,
   "metadata": {},
   "outputs": [],
   "source": [
    "with netCDF4.Dataset(cluttermask, \"r\") as ncid:\n",
    "    CLUTTER_RANGE = ncid['range'][:]\n",
    "    CLUTTER_AZIMUTH = ncid['azimuth'][:]"
   ]
  },
  {
   "cell_type": "code",
   "execution_count": null,
   "metadata": {},
   "outputs": [
    {
     "name": "stderr",
     "output_type": "stream",
     "text": [
      " 72%|███████▏  | 10624/14664 [02:20<00:53, 75.44it/s]"
     ]
    }
   ],
   "source": [
    "with Pool(16) as pool:\n",
    "    myrslt = list(tqdm.tqdm(pool.imap(read_data, flist), total=len(flist)))"
   ]
  },
  {
   "cell_type": "code",
   "execution_count": null,
   "metadata": {},
   "outputs": [],
   "source": [
    "date_time, close_clutter, far_clutter, elev_mean, elev_std, rca = zip(*myrslt)"
   ]
  },
  {
   "cell_type": "code",
   "execution_count": null,
   "metadata": {},
   "outputs": [],
   "source": [
    "close_clutter = np.array(close_clutter)\n",
    "far_clutter = np.array(far_clutter)\n",
    "elev_mean = np.array(elev_mean)\n",
    "elev_std = np.array(elev_std)\n",
    "rca = np.array(rca)"
   ]
  },
  {
   "cell_type": "code",
   "execution_count": null,
   "metadata": {},
   "outputs": [],
   "source": [
    "lb = np.percentile(rca[~np.isnan(rca)], 1)\n",
    "ub = np.percentile(rca[~np.isnan(rca)], 99.9)\n",
    "rca[(rca < lb) | (rca > ub)] = np.NaN"
   ]
  },
  {
   "cell_type": "code",
   "execution_count": null,
   "metadata": {},
   "outputs": [],
   "source": [
    "pl.plot(date_time, rca, \"+\")\n",
    "pl.ylim(0, 70)"
   ]
  },
  {
   "cell_type": "code",
   "execution_count": 23,
   "metadata": {},
   "outputs": [
    {
     "data": {
      "image/png": "[encoded data removed]",
      "text/plain": [
       "<Figure size 432x288 with 1 Axes>"
      ]
     },
     "metadata": {},
     "output_type": "display_data"
    }
   ],
   "source": [
    "pl.hist2d(elev_mean, rca, range=[[0.3, 0.6], [50, 70]], bins=(12, 40), cmap='YlOrRd')\n",
    "pl.show()"
   ]
  },
  {
   "cell_type": "code",
   "execution_count": 26,
   "metadata": {},
   "outputs": [],
   "source": [
    "ratio_mean = []\n",
    "ratio_std = []\n",
    "elev = []\n",
    "nb_files = []\n",
    "\n",
    "for el in np.unique(elev_mean):\n",
    "    if el > 1:\n",
    "        continue\n",
    "        \n",
    "    elev.append(el)\n",
    "    pos = elev_mean == el\n",
    "    rca_ratio = np.nanmean(rca[pos] )\n",
    "    \n",
    "    nb_files.append(np.sum(pos))\n",
    "    ratio_mean.append(rca_ratio)        "
   ]
  },
  {
   "cell_type": "code",
   "execution_count": 28,
   "metadata": {},
   "outputs": [
    {
     "data": {
      "text/plain": [
       "59.17187154003821"
      ]
     },
     "execution_count": 28,
     "metadata": {},
     "output_type": "execute_result"
    }
   ],
   "source": [
    "rca_ratio"
   ]
  },
  {
   "cell_type": "code",
   "execution_count": 32,
   "metadata": {},
   "outputs": [],
   "source": [
    "elev = np.array(elev)\n",
    "ratio_mean = np.array(ratio_mean)\n",
    "ratio_std = np.array(ratio_std)\n",
    "nb_files = np.array(nb_files)"
   ]
  },
  {
   "cell_type": "code",
   "execution_count": 33,
   "metadata": {},
   "outputs": [
    {
     "data": {
      "text/plain": [
       "[<matplotlib.lines.Line2D at 0x7f9dfe83b400>]"
      ]
     },
     "execution_count": 33,
     "metadata": {},
     "output_type": "execute_result"
    },
    {
     "data": {
      "image/png": "[encoded data removed]",
      "text/plain": [
       "<Figure size 432x288 with 1 Axes>"
      ]
     },
     "metadata": {},
     "output_type": "display_data"
    }
   ],
   "source": [
    "pl.plot(elev[nb_files > 10], ratio_mean[nb_files > 10],)\n"
   ]
  },
  {
   "cell_type": "code",
   "execution_count": 34,
   "metadata": {},
   "outputs": [
    {
     "data": {
      "text/plain": [
       "[<matplotlib.lines.Line2D at 0x7f9dfd315dd8>]"
      ]
     },
     "execution_count": 34,
     "metadata": {},
     "output_type": "execute_result"
    },
    {
     "data": {
      "image/png": "[encoded data removed]",
      "text/plain": [
       "<Figure size 432x288 with 1 Axes>"
      ]
     },
     "metadata": {},
     "output_type": "display_data"
    }
   ],
   "source": [
    "pl.plot(elev[nb_files > 10][0:2], ratio_mean[nb_files > 10][0:2])"
   ]
  },
  {
   "cell_type": "code",
   "execution_count": 36,
   "metadata": {},
   "outputs": [
    {
     "data": {
      "text/plain": [
       "[<matplotlib.lines.Line2D at 0x7f9dfd265080>]"
      ]
     },
     "execution_count": 36,
     "metadata": {},
     "output_type": "execute_result"
    },
    {
     "data": {
      "image/png": "[encoded data removed]",
      "text/plain": [
       "<Figure size 432x288 with 1 Axes>"
      ]
     },
     "metadata": {},
     "output_type": "display_data"
    }
   ],
   "source": [
    "pl.plot(elev[nb_files > 10][-2:], ratio_mean[nb_files > 10][-2:])"
   ]
  },
  {
   "cell_type": "code",
   "execution_count": 108,
   "metadata": {},
   "outputs": [
    {
     "data": {
      "image/png": "[encoded data removed]",
      "text/plain": [
       "<Figure size 432x288 with 2 Axes>"
      ]
     },
     "metadata": {},
     "output_type": "display_data"
    }
   ],
   "source": [
    "pl.hist2d(elev_mean, far_clutter / close_clutter, range=[[0.3, 0.6], [0.92, 1.00]], bins=(12, 100), cmap='YlOrRd')\n",
    "pl.colorbar()\n",
    "pl.xlabel('Elevation angle')\n",
    "pl.ylabel('ratio Far/Close')\n",
    "pl.show()"
   ]
  },
  {
   "cell_type": "code",
   "execution_count": 94,
   "metadata": {},
   "outputs": [
    {
     "name": "stdout",
     "output_type": "stream",
     "text": [
      "0.390625 0.9604847510015047 0.020574824992199366\n",
      "0.40625 0.9601759915919743 0.0197442136989296\n",
      "0.4375 0.9562907805968989 0.021847785209770553\n",
      "0.46875 0.9581683979340178 0.024484115345210142\n",
      "0.5 0.9582556947334699 0.025844518085958494\n",
      "0.515625 0.9362571926653068 0.0\n"
     ]
    }
   ],
   "source": [
    "ratio_mean = []\n",
    "ratio_std = []\n",
    "elev = []\n",
    "nb_files = []\n",
    "\n",
    "for el in np.unique(elev_mean):\n",
    "    if el > 1:\n",
    "        continue\n",
    "        \n",
    "    elev.append(el)\n",
    "    pos = elev_mean == el\n",
    "    rca_ratio = far_clutter[pos] / close_clutter[pos]\n",
    "    \n",
    "    nb_files.append(np.sum(pos))\n",
    "    ratio_mean.append(np.nanmean(rca_ratio))\n",
    "    ratio_std.append(np.nanstd(rca_ratio))\n",
    "    \n",
    "    print(el, np.nanmean(rca_ratio), np.nanstd(rca_ratio))"
   ]
  },
  {
   "cell_type": "code",
   "execution_count": 99,
   "metadata": {},
   "outputs": [],
   "source": [
    "elev = np.array(elev)\n",
    "ratio_mean = np.array(ratio_mean)\n",
    "ratio_std = np.array(ratio_std)\n",
    "nb_files = np.array(nb_files)"
   ]
  },
  {
   "cell_type": "code",
   "execution_count": 106,
   "metadata": {},
   "outputs": [
    {
     "data": {
      "image/png": "[encoded data removed]",
      "text/plain": [
       "<Figure size 432x288 with 1 Axes>"
      ]
     },
     "metadata": {},
     "output_type": "display_data"
    }
   ],
   "source": [
    "pl.plot(elev[nb_files > 10], ratio_mean[nb_files > 10], 'o--')\n",
    "pl.xlabel('Elevation angle')\n",
    "pl.ylabel('Ratio (RCA > 5 km) / (RCA <= 5 km)')\n",
    "pl.show()"
   ]
  },
  {
   "cell_type": "code",
   "execution_count": 107,
   "metadata": {},
   "outputs": [
    {
     "data": {
      "text/plain": [
       "array([ 5035, 11895,  5525,  5585])"
      ]
     },
     "execution_count": 107,
     "metadata": {},
     "output_type": "execute_result"
    }
   ],
   "source": [
    "nb_files[nb_files > 10]"
   ]
  },
  {
   "cell_type": "code",
   "execution_count": 113,
   "metadata": {},
   "outputs": [
    {
     "data": {
      "image/png": "[encoded data removed]",
      "text/plain": [
       "<Figure size 432x288 with 1 Axes>"
      ]
     },
     "metadata": {},
     "output_type": "display_data"
    }
   ],
   "source": [
    "pl.errorbar(elev[nb_files > 10], ratio_mean[nb_files > 10], ratio_std[nb_files > 10])\n",
    "pl.xlabel('Elevation angle')\n",
    "pl.ylabel('Ratio (RCA > 5 km) / (RCA <= 5 km)')\n",
    "pl.show()"
   ]
  },
  {
   "cell_type": "code",
   "execution_count": null,
   "metadata": {},
   "outputs": [],
   "source": []
  }
 ],
 "metadata": {
  "kernelspec": {
   "display_name": "Python [conda env:radar]",
   "language": "python",
   "name": "conda-env-radar-py"
  },
  "language_info": {
   "codemirror_mode": {
    "name": "ipython",
    "version": 3
   },
   "file_extension": ".py",
   "mimetype": "text/x-python",
   "name": "python",
   "nbconvert_exporter": "python",
   "pygments_lexer": "ipython3",
   "version": "3.6.6"
  }
 },
 "nbformat": 4,
 "nbformat_minor": 2
}
