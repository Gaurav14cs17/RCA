{
 "cells": [
  {
   "cell_type": "code",
   "execution_count": 1,
   "metadata": {},
   "outputs": [],
   "source": [
    "%matplotlib inline\n",
    "import os\n",
    "import gzip\n",
    "import pickle\n",
    "import glob\n",
    "import datetime\n",
    "import warnings\n",
    "\n",
    "from multiprocessing import Pool\n",
    "\n",
    "import netCDF4\n",
    "import numpy as np\n",
    "import pandas as pd\n",
    "import matplotlib.pyplot as pl\n",
    "\n",
    "warnings.simplefilter(\"ignore\")"
   ]
  },
  {
   "cell_type": "code",
   "execution_count": 2,
   "metadata": {},
   "outputs": [],
   "source": [
    "# From satellite comparison code.\n",
    "SAT_OFF = {1998: 1.7,\n",
    " 1999: 2.9,\n",
    " 2001: 0,\n",
    " 2002: -1.0,\n",
    " 2003: -1.6,\n",
    " 2004: 0,\n",
    " 2005: -1.4,\n",
    " 2006: 0,\n",
    " 2009: 2.9,\n",
    " 2010: 3.6,\n",
    " 2011: 2.1,\n",
    " 2012: 0.9,\n",
    " 2013: 0.9,\n",
    " 2014: 0.9,\n",
    " 2015: 0,\n",
    " 2016: 2.1}"
   ]
  },
  {
   "cell_type": "code",
   "execution_count": 14,
   "metadata": {},
   "outputs": [],
   "source": [
    "def read_data(flist):\n",
    "    rca = np.array([])\n",
    "    rain = np.array([])\n",
    "    dtime = np.array([], dtype=np.datetime64)\n",
    "    for fd in flist:\n",
    "        with netCDF4.Dataset(fd, 'r') as ncid:\n",
    "            time = ncid['time'][:]\n",
    "            rca_tmp = ncid['rca'][:]\n",
    "\n",
    "            dtime_tmp = netCDF4.num2date(time, ncid['time'].units)\n",
    "            rca = np.append(rca, rca_tmp)\n",
    "            dtime = np.append(dtime, dtime_tmp)\n",
    "            rain = np.append(rain, ncid[\"rain\"][:])\n",
    "\n",
    "    pos = np.argsort(dtime)\n",
    "    dtime = dtime[pos]\n",
    "    rca = rca[pos]\n",
    "    rain = rain[pos]\n",
    "    \n",
    "    return dtime, rca, rain"
   ]
  },
  {
   "cell_type": "code",
   "execution_count": 4,
   "metadata": {},
   "outputs": [],
   "source": [
    "def get_data(dtime, rca, rain, year=2016):\n",
    "    rain[np.isnan(rain)] = 0\n",
    "    rca_norain = rca.copy()\n",
    "    rca_rain = rca.copy()\n",
    "    rca_norain[rain > 1] = np.NaN\n",
    "    rca_rain[rain <= 1] = np.NaN\n",
    "    \n",
    "    st = datetime.datetime(year, 10, 1)\n",
    "    ed = datetime.datetime(year + 1, 6, 1)\n",
    "    fpos = lambda x: (x > st) & (x < ed)\n",
    "\n",
    "    pos = fpos(dtime)\n",
    "    ul = np.percentile(rca[pos], 99.)\n",
    "    ll = np.percentile(rca[pos], 1)\n",
    "    x = dtime[pos]\n",
    "    y0 = rca_norain[pos]\n",
    "    y0[(y0 > ul) | (y0 < ll)] = np.NaN\n",
    "    y1 = rca_rain[pos]\n",
    "    y1[(y1 > ul) | (y1 < ll)] = np.NaN\n",
    "    \n",
    "    return x, y0, y1, st, ed"
   ]
  },
  {
   "cell_type": "code",
   "execution_count": 5,
   "metadata": {},
   "outputs": [],
   "source": [
    "def get_data2(dtime, rca, year=2016):    \n",
    "    rca_tot= rca.copy()\n",
    "    \n",
    "    st = datetime.datetime(year, 10, 1)\n",
    "    ed = datetime.datetime(year + 1, 6, 1)\n",
    "    fpos = lambda x: (x > st) & (x < ed)\n",
    "\n",
    "    pos = fpos(dtime)\n",
    "    x = dtime[pos]\n",
    "    y0 = rca_tot[pos]\n",
    "    \n",
    "    return x, y0, st, ed"
   ]
  },
  {
   "cell_type": "code",
   "execution_count": 6,
   "metadata": {},
   "outputs": [],
   "source": [
    "def get_limits(arr0, arr1=None):\n",
    "    if arr1 is None:\n",
    "        mi0 = np.nanmin(arr0)\n",
    "        ma0 = np.nanmax(arr0)\n",
    "        ll = 10 * np.floor(mi0 / 10)\n",
    "        ul = 10 * np.ceil(ma0 / 10)\n",
    "    else:\n",
    "        mi0 = np.nanmin(arr0)\n",
    "        ma0 = np.nanmax(arr0)\n",
    "        mi1 = np.nanmin(arr1)\n",
    "        ma1 = np.nanmax(arr1)\n",
    "        minval = np.nanmin([mi0, mi1])\n",
    "        maxval = np.nanmax([ma0, ma1])\n",
    "        ll = 10 * np.floor(minval / 10)\n",
    "        ul = 10 * np.ceil(maxval / 10)\n",
    "    \n",
    "    return ll, ul"
   ]
  },
  {
   "cell_type": "code",
   "execution_count": 24,
   "metadata": {},
   "outputs": [],
   "source": [
    "# indir = \"../saved_rca/netcdf/\"\n",
    "indir = \"../saved_rca_rain/RCA_CPOL_2002-10-29T08:30:09_to_2003-07-14T02:00:09.nc\"\n",
    "flist = sorted(glob.glob(os.path.join(indir, \"*.nc\")))\n",
    "dtime, rca, rain = read_data([indir])"
   ]
  },
  {
   "cell_type": "code",
   "execution_count": 25,
   "metadata": {},
   "outputs": [
    {
     "data": {
      "text/plain": [
       "array([datetime.datetime(2002, 10, 29, 8, 30, 9),\n",
       "       datetime.datetime(2002, 10, 29, 8, 50, 9),\n",
       "       datetime.datetime(2002, 10, 29, 9, 0, 9), ...,\n",
       "       datetime.datetime(2003, 7, 14, 1, 40, 9),\n",
       "       datetime.datetime(2003, 7, 14, 1, 50, 8),\n",
       "       datetime.datetime(2003, 7, 14, 2, 0, 9)], dtype=object)"
      ]
     },
     "execution_count": 25,
     "metadata": {},
     "output_type": "execute_result"
    }
   ],
   "source": [
    "dtime"
   ]
  },
  {
   "cell_type": "code",
   "execution_count": 32,
   "metadata": {},
   "outputs": [
    {
     "data": {
      "image/png": "[encoded data removed]",
      "text/plain": [
       "<matplotlib.figure.Figure at 0x7f947805d748>"
      ]
     },
     "metadata": {},
     "output_type": "display_data"
    }
   ],
   "source": [
    "# def plot_data(dtime, rca, rain, year):\n",
    "year = 2002\n",
    "try:\n",
    "    x, y0, y1, st, ed = get_data(dtime, rca, rain, year)\n",
    "except IndexError:\n",
    "    print(\"No data for given year.\")    \n",
    "\n",
    "if year == 2002:\n",
    "    y0[y0 < 60] = np.NaN\n",
    "\n",
    "y0mean = np.nanmean(y0)\n",
    "y0std = np.nanstd(y0)\n",
    "y1mean = np.nanmean(y1)\n",
    "y1std = np.nanstd(y1)\n",
    "\n",
    "ll, ul= get_limits(y0, y1)    \n",
    "\n",
    "with pl.style.context(\"seaborn-paper\"):\n",
    "    fig, ax = pl.subplots(2, 1, sharex=True)\n",
    "    ax = ax.flatten()\n",
    "\n",
    "    ax[0].plot(x, y0, \".\", label=\"Without rain\")\n",
    "    ax[0].plot([st, ed], [y0mean, y0mean], label=\"$\\overline{RCA} = %0.2f$ dB\" % (y0mean))\n",
    "    ax[0].plot([st, ed], [y0mean + y0std, y0mean + y0std], \"k--\", label=\"$\\overline{RCA} \\pm %0.2f$ dB\" % (y0std))\n",
    "    ax[0].plot([st, ed], [y0mean - y0std, y0mean - y0std], \"k--\")\n",
    "    ax[0].set_ylabel(r\"$CDF_{95} \\left[Z_c \\right]$ (dB)\")\n",
    "    ax[0].set_title(\"Season {}/{} ({} scans)\".format(year, year + 1, len(x)))\n",
    "\n",
    "    ax[1].plot(x, y1, \".\", label=\"With rain\")\n",
    "    ax[1].plot([st, ed], [y1mean, y1mean], label=\"$\\overline{RCA} = %0.2f$ dB\" % (y1mean))\n",
    "    ax[1].plot([st, ed], [y1mean + y1std, y1mean + y1std], \"k--\", label=\"$\\overline{RCA} \\pm %0.2f$ dB\" % (y1std))\n",
    "    ax[1].plot([st, ed], [y1mean - y1std, y1mean - y1std], \"k--\")\n",
    "    ax[1].set_ylabel(r\"$CDF_{95} \\left[Z_c \\right]$ (dB)\")\n",
    "    \n",
    "    ax[0].text(st, 69, \"a)\", va=\"top\")\n",
    "    ax[1].text(st, 69, \"b)\", va=\"top\")\n",
    "\n",
    "    for myax in ax:\n",
    "        myax.set_xlim(st, ed)\n",
    "        myax.set_ylim(50, 70)\n",
    "        myax.legend(loc=4)\n",
    "        myax.grid()\n",
    "\n",
    "    fig.autofmt_xdate()\n",
    "    \n",
    "    width = 5.5\n",
    "    height = width / 1.618\n",
    "    fig.set_size_inches(width, height)\n",
    "    fig.tight_layout()\n",
    "#     pl.savefig(\"rca_rain.png\", dpi=600)"
   ]
  },
  {
   "cell_type": "code",
   "execution_count": 8,
   "metadata": {},
   "outputs": [],
   "source": [
    "def get_ref_mean(dataf):\n",
    "    return dataf[dataf > dataf.quantile(0.25)].y0.mean()"
   ]
  },
  {
   "cell_type": "code",
   "execution_count": 9,
   "metadata": {},
   "outputs": [],
   "source": [
    "def make_plot(year):\n",
    "    try:\n",
    "        x, y0, st, ed = get_data2(dtime, rca, year)\n",
    "    except Exception:\n",
    "        return None\n",
    "    \n",
    "    if np.nanmean(y0) > 100:\n",
    "        y0 = y0 / 2 - 32.\n",
    "        \n",
    "    df = pd.DataFrame({\"y0\": y0}, index=x)\n",
    "    df = df[(df < df.quantile(0.95)) & (df > df.quantile(0.05))]\n",
    "    dfh = df.resample(\"1h\").mean()\n",
    "    dfd = df.resample(\"1d\").mean()\n",
    "    yhm = get_ref_mean(dfh)\n",
    "    ydm = get_ref_mean(dfd)\n",
    "    ll, ul = get_limits(dfh.y0.values)\n",
    "\n",
    "    with pl.style.context(\"bmh\"):\n",
    "        fig, ax = pl.subplots(3, 1, sharex=True, figsize=(10, 8))\n",
    "        ax = ax.flatten()\n",
    "\n",
    "        ax[0].plot(dfh.index, dfh.y0, \"+\")\n",
    "        ax[0].plot([st, ed], [yhm, yhm], \"--\", label=\"$\\overline{RCA} = %0.2f$ dB\" % (yhm))\n",
    "        ax[0].set_ylabel(\"RCA (dB)\")\n",
    "        ax[0].set_title(\"Season {}/{} ({} scans)\".format(year, year + 1, len(x)))\n",
    "\n",
    "        ax[1].plot(dfd.index, dfd.y0, \"+\")\n",
    "        ax[1].plot([st, ed], [ydm, ydm], \"--\", label=\"$\\overline{RCA} = %0.2f$ dB\" % (ydm))\n",
    "        ax[1].set_ylabel(\"RCA (dB)\")\n",
    "        \n",
    "        yyy = ydm - dfd.y0\n",
    "        yyy = np.ma.masked_where(np.isnan(yyy), yyy)\n",
    "        dy = np.gradient(yyy)\n",
    "        dy[np.isnan(dy)] = 0\n",
    "        dy[np.abs(dy) < 0.15] = 0\n",
    "        yyy = np.cumsum(dy) + yyy[~np.isnan(yyy)][0]\n",
    "        xoff = dfd.index\n",
    "        offset = yyy + SAT_OFF[year]\n",
    "        ax[2].plot(xoff, offset, \"+\")\n",
    "        # ax[2].plot([st, ed], [ydm, ydm], \"--\", label=\"$\\overline{RCA} = %0.2f$ dB\" % (ydm))\n",
    "        ax[2].set_ylabel(\"Offset (dB)\")\n",
    "\n",
    "        for cnt, myax in enumerate(ax):\n",
    "            myax.set_xlim(st, ed)\n",
    "            if cnt < 2:\n",
    "                myax.set_ylim(ll, ul)\n",
    "            else:\n",
    "                myax.set_ylim(-10, 10)\n",
    "            myax.legend(loc=4)\n",
    "    #         myax.grid()\n",
    "\n",
    "        fig.autofmt_xdate()\n",
    "        fig.tight_layout()\n",
    "\n",
    "        pl.show()\n",
    "        \n",
    "    return xoff, offset"
   ]
  },
  {
   "cell_type": "code",
   "execution_count": 19,
   "metadata": {
    "scrolled": false
   },
   "outputs": [],
   "source": [
    "# rslt = [make_plot(yr) for yr in range(1998, 2017) if yr not in [2000, 2007, 2008]]"
   ]
  },
  {
   "cell_type": "code",
   "execution_count": null,
   "metadata": {},
   "outputs": [],
   "source": []
  }
 ],
 "metadata": {
  "kernelspec": {
   "display_name": "Python [conda env:radar]",
   "language": "python",
   "name": "conda-env-radar-py"
  },
  "language_info": {
   "codemirror_mode": {
    "name": "ipython",
    "version": 3
   },
   "file_extension": ".py",
   "mimetype": "text/x-python",
   "name": "python",
   "nbconvert_exporter": "python",
   "pygments_lexer": "ipython3",
   "version": "3.6.4"
  }
 },
 "nbformat": 4,
 "nbformat_minor": 2
}
